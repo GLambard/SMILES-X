{
 "cells": [
  {
   "cell_type": "code",
   "execution_count": 1,
   "metadata": {},
   "outputs": [
    {
     "name": "stderr",
     "output_type": "stream",
     "text": [
      "RDKit WARNING: [10:56:46] Enabling RDKit 2019.09.2 jupyter extensions\n"
     ]
    }
   ],
   "source": [
    "import pandas as pd\n",
    "\n",
    "from SMILESX import main, inference, utils\n",
    "%load_ext autoreload\n",
    "%aimport SMILESX\n",
    "%autoreload 1\n",
    "\n",
    "%matplotlib inline"
   ]
  },
  {
   "cell_type": "markdown",
   "metadata": {},
   "source": [
    "#### **Read data file**"
   ]
  },
  {
   "cell_type": "code",
   "execution_count": 2,
   "metadata": {},
   "outputs": [],
   "source": [
    "validation_data_dir = \"./validation_data/\""
   ]
  },
  {
   "cell_type": "code",
   "execution_count": 3,
   "metadata": {},
   "outputs": [],
   "source": [
    "extension = '.csv'"
   ]
  },
  {
   "cell_type": "code",
   "execution_count": 4,
   "metadata": {},
   "outputs": [],
   "source": [
    "data_name = 'FreeSolv' # FreeSolv, ESOL, Lipophilicity\n",
    "prop_tag = ''"
   ]
  },
  {
   "cell_type": "code",
   "execution_count": 5,
   "metadata": {},
   "outputs": [],
   "source": [
    "if data_name == 'FreeSolv':\n",
    "    data_filename = 'FreeSolv_SAMPL'\n",
    "    prop_tag = 'expt'\n",
    "elif data_name == 'ESOL':\n",
    "    data_filename = 'ESOL_delaney-processed'\n",
    "    prop_tag = 'measured log solubility in mols per litre'\n",
    "elif data_name == 'Lipophilicity':\n",
    "    data_filename = 'Lipophilicity'\n",
    "    prop_tag = 'exp'\n",
    "else:\n",
    "    data_filename = data_name\n",
    "    prop_tag = prop_tag"
   ]
  },
  {
   "cell_type": "code",
   "execution_count": 6,
   "metadata": {},
   "outputs": [],
   "source": [
    "sol_data = pd.read_csv(validation_data_dir+data_filename+extension)"
   ]
  },
  {
   "cell_type": "code",
   "execution_count": 7,
   "metadata": {},
   "outputs": [
    {
     "data": {
      "text/html": [
       "<div>\n",
       "<style scoped>\n",
       "    .dataframe tbody tr th:only-of-type {\n",
       "        vertical-align: middle;\n",
       "    }\n",
       "\n",
       "    .dataframe tbody tr th {\n",
       "        vertical-align: top;\n",
       "    }\n",
       "\n",
       "    .dataframe thead th {\n",
       "        text-align: right;\n",
       "    }\n",
       "</style>\n",
       "<table border=\"1\" class=\"dataframe\">\n",
       "  <thead>\n",
       "    <tr style=\"text-align: right;\">\n",
       "      <th></th>\n",
       "      <th>Unnamed: 0</th>\n",
       "      <th>iupac</th>\n",
       "      <th>smiles</th>\n",
       "      <th>expt</th>\n",
       "      <th>calc</th>\n",
       "    </tr>\n",
       "  </thead>\n",
       "  <tbody>\n",
       "    <tr>\n",
       "      <th>0</th>\n",
       "      <td>0</td>\n",
       "      <td>4-methoxy-N,N-dimethyl-benzamide</td>\n",
       "      <td>COc1ccc(C(=O)N(C)C)cc1</td>\n",
       "      <td>-11.01</td>\n",
       "      <td>-9.625</td>\n",
       "    </tr>\n",
       "    <tr>\n",
       "      <th>1</th>\n",
       "      <td>1</td>\n",
       "      <td>methanesulfonyl chloride</td>\n",
       "      <td>CS(=O)(=O)Cl</td>\n",
       "      <td>-4.87</td>\n",
       "      <td>-6.219</td>\n",
       "    </tr>\n",
       "    <tr>\n",
       "      <th>2</th>\n",
       "      <td>2</td>\n",
       "      <td>3-methylbut-1-ene</td>\n",
       "      <td>C=CC(C)C</td>\n",
       "      <td>1.83</td>\n",
       "      <td>2.452</td>\n",
       "    </tr>\n",
       "  </tbody>\n",
       "</table>\n",
       "</div>"
      ],
      "text/plain": [
       "   Unnamed: 0                             iupac                  smiles  \\\n",
       "0           0  4-methoxy-N,N-dimethyl-benzamide  COc1ccc(C(=O)N(C)C)cc1   \n",
       "1           1          methanesulfonyl chloride            CS(=O)(=O)Cl   \n",
       "2           2                 3-methylbut-1-ene                C=CC(C)C   \n",
       "\n",
       "    expt   calc  \n",
       "0 -11.01 -9.625  \n",
       "1  -4.87 -6.219  \n",
       "2   1.83  2.452  "
      ]
     },
     "execution_count": 7,
     "metadata": {},
     "output_type": "execute_result"
    }
   ],
   "source": [
    "sol_data.head(3)"
   ]
  },
  {
   "cell_type": "markdown",
   "metadata": {},
   "source": [
    "#### **Observation**\n",
    "* The column containing the SMILES must be named 'smiles' "
   ]
  },
  {
   "cell_type": "markdown",
   "metadata": {},
   "source": [
    "#### **Extract relevant data**"
   ]
  },
  {
   "cell_type": "code",
   "execution_count": 8,
   "metadata": {},
   "outputs": [],
   "source": [
    "sol_data = sol_data[['smiles',prop_tag]]"
   ]
  },
  {
   "cell_type": "code",
   "execution_count": 9,
   "metadata": {},
   "outputs": [
    {
     "data": {
      "text/html": [
       "<div>\n",
       "<style scoped>\n",
       "    .dataframe tbody tr th:only-of-type {\n",
       "        vertical-align: middle;\n",
       "    }\n",
       "\n",
       "    .dataframe tbody tr th {\n",
       "        vertical-align: top;\n",
       "    }\n",
       "\n",
       "    .dataframe thead th {\n",
       "        text-align: right;\n",
       "    }\n",
       "</style>\n",
       "<table border=\"1\" class=\"dataframe\">\n",
       "  <thead>\n",
       "    <tr style=\"text-align: right;\">\n",
       "      <th></th>\n",
       "      <th>smiles</th>\n",
       "      <th>expt</th>\n",
       "    </tr>\n",
       "  </thead>\n",
       "  <tbody>\n",
       "    <tr>\n",
       "      <th>0</th>\n",
       "      <td>COc1ccc(C(=O)N(C)C)cc1</td>\n",
       "      <td>-11.01</td>\n",
       "    </tr>\n",
       "    <tr>\n",
       "      <th>1</th>\n",
       "      <td>CS(=O)(=O)Cl</td>\n",
       "      <td>-4.87</td>\n",
       "    </tr>\n",
       "    <tr>\n",
       "      <th>2</th>\n",
       "      <td>C=CC(C)C</td>\n",
       "      <td>1.83</td>\n",
       "    </tr>\n",
       "    <tr>\n",
       "      <th>3</th>\n",
       "      <td>CCc1cnccn1</td>\n",
       "      <td>-5.45</td>\n",
       "    </tr>\n",
       "    <tr>\n",
       "      <th>4</th>\n",
       "      <td>CCCCCCCO</td>\n",
       "      <td>-4.21</td>\n",
       "    </tr>\n",
       "  </tbody>\n",
       "</table>\n",
       "</div>"
      ],
      "text/plain": [
       "                   smiles   expt\n",
       "0  COc1ccc(C(=O)N(C)C)cc1 -11.01\n",
       "1            CS(=O)(=O)Cl  -4.87\n",
       "2                C=CC(C)C   1.83\n",
       "3              CCc1cnccn1  -5.45\n",
       "4                CCCCCCCO  -4.21"
      ]
     },
     "execution_count": 9,
     "metadata": {},
     "output_type": "execute_result"
    }
   ],
   "source": [
    "sol_data.head()"
   ]
  },
  {
   "cell_type": "code",
   "execution_count": 10,
   "metadata": {},
   "outputs": [
    {
     "data": {
      "text/plain": [
       "(642, 2)"
      ]
     },
     "execution_count": 10,
     "metadata": {},
     "output_type": "execute_result"
    }
   ],
   "source": [
    "sol_data.shape"
   ]
  },
  {
   "cell_type": "markdown",
   "metadata": {},
   "source": [
    "#### **SMILES check from RDKit**"
   ]
  },
  {
   "cell_type": "code",
   "execution_count": 11,
   "metadata": {},
   "outputs": [],
   "source": [
    "sol_data, bad_smiles_list = utils.check_smiles(sol_data)"
   ]
  },
  {
   "cell_type": "code",
   "execution_count": 12,
   "metadata": {},
   "outputs": [
    {
     "data": {
      "text/plain": [
       "(642, 2)"
      ]
     },
     "execution_count": 12,
     "metadata": {},
     "output_type": "execute_result"
    }
   ],
   "source": [
    "sol_data.shape"
   ]
  },
  {
   "cell_type": "code",
   "execution_count": 13,
   "metadata": {},
   "outputs": [
    {
     "data": {
      "text/plain": [
       "(642,)"
      ]
     },
     "execution_count": 13,
     "metadata": {},
     "output_type": "execute_result"
    }
   ],
   "source": [
    "sol_data.iloc[:,1].values.shape"
   ]
  },
  {
   "cell_type": "markdown",
   "metadata": {},
   "source": [
    "#### Hyperparameters optimization with GPyOpt (Bayesian optimization)"
   ]
  },
  {
   "cell_type": "code",
   "execution_count": 14,
   "metadata": {},
   "outputs": [],
   "source": [
    "dhyp_range = [int(2**itn) for itn in range(3,11)] # \n",
    "#dhyp_range = [itn for itn in range(1,1024)] \n",
    "\n",
    "bounds = [\n",
    "    {'name': 'lstmunits', 'type': 'discrete', 'domain': dhyp_range}, \n",
    "    {'name': 'denseunits', 'type': 'discrete', 'domain': dhyp_range}, \n",
    "    {'name': 'embedding', 'type': 'discrete', 'domain': dhyp_range}#, \n",
    "    #{'name': 'batchsize', 'type': 'discrete', 'domain': dhyp_range}\n",
    "]"
   ]
  },
  {
   "cell_type": "code",
   "execution_count": 15,
   "metadata": {
    "scrolled": true
   },
   "outputs": [
    {
     "name": "stdout",
     "output_type": "stream",
     "text": [
      "4 Physical GPUs, 4 Logical GPUs detected and configured.\n",
      "4 GPU device(s) will be used.\n",
      "\n",
      "***SMILES_X starts...***\n",
      "\n",
      "The SMILES_X process can be followed in the ./data/Main/FreeSolv/Can/2020-03-25_10:18:18_Main.log file.\n",
      "\n",
      "Remaining time: <0.02 h. Processing the last fold of data...\n",
      "\n",
      "***SMILES_X has terminated successfully.***\n",
      "\n"
     ]
    }
   ],
   "source": [
    "main.Main(data=sol_data, \n",
    "          data_name=data_name, \n",
    "          data_units='', \n",
    "          bayopt_bounds=bounds, \n",
    "          k_fold_number = 3, \n",
    "          augmentation = False, \n",
    "          outdir = \"./data/\", \n",
    "          n_seeds = 1, \n",
    "          bayopt_n_rounds = 5, \n",
    "          bayopt_on = True, \n",
    "          lstmunits_ref = 16, \n",
    "          denseunits_ref = 1024, \n",
    "          embedding_ref = 256, \n",
    "          seed_ref = None, \n",
    "          n_gpus = 4,\n",
    "          gpus_list = None, \n",
    "          gpus_debug = False,\n",
    "          patience = 50, \n",
    "          n_epochs = 400, \n",
    "          batchsize_pergpu = None,  \n",
    "          lr_schedule = None,\n",
    "          lr_min = 1e-5, \n",
    "          lr_max = 1e-2, \n",
    "          verbose = 0)"
   ]
  },
  {
   "cell_type": "code",
   "execution_count": 14,
   "metadata": {},
   "outputs": [
    {
     "name": "stdout",
     "output_type": "stream",
     "text": [
      "1 Physical GPUs, 1 Logical GPUs detected and configured.\n",
      "1 GPU device(s) will be used.\n",
      "\n",
      "No data augmentation is required.\n",
      "Maximum length of tokenized SMILES: 47 tokens.\n",
      "Full vocabulary: ['pad', 'unk', 'P', '/', 'Br', 's', 'F', 'O', '4', 'n', '1', '2', ' ', '(', '[C@@H]', '5', '=', '[C@H]', '[C@@]', '[nH]', 'I', '-', 'Cl', '3', '[C@]', '[O-]', 'N', 'C', 'S', '#', ')', '[S+2]', 'c', '[N+]'], of size: 34.\n",
      "\n",
      "***************************************\n",
      "***SMILES_X for inference initiated.***\n",
      "***************************************\n",
      "\n"
     ]
    }
   ],
   "source": [
    "Inference_class = inference.Inference(data_name=data_name, \n",
    "                                      data_units = '',\n",
    "                                      k_fold_number = None,\n",
    "                                      augmentation = False, \n",
    "                                      indir = \"./data/\", \n",
    "                                      outdir = \"./data/\")"
   ]
  },
  {
   "cell_type": "code",
   "execution_count": 15,
   "metadata": {},
   "outputs": [
    {
     "name": "stdout",
     "output_type": "stream",
     "text": [
      "**************************************\n",
      "***SMILES_X for inference starts...***\n",
      "**************************************\n",
      "\n",
      "Checking the SMILES list for inference.\n",
      "Number of enumerated SMILES: 642.\n",
      "Tokenization of SMILES.\n",
      "\n",
      "****************************************\n",
      "***Inference of SMILES property done.***\n",
      "****************************************\n",
      "\n",
      "CPU times: user 2.51 s, sys: 145 ms, total: 2.66 s\n",
      "Wall time: 2.54 s\n"
     ]
    }
   ],
   "source": [
    "%%time\n",
    "pred_from_ens = Inference_class.infer(smiles_list = sol_data.smiles.values.tolist(), check_smiles = True)"
   ]
  },
  {
   "cell_type": "code",
   "execution_count": 16,
   "metadata": {},
   "outputs": [
    {
     "data": {
      "text/html": [
       "<div>\n",
       "<style scoped>\n",
       "    .dataframe tbody tr th:only-of-type {\n",
       "        vertical-align: middle;\n",
       "    }\n",
       "\n",
       "    .dataframe tbody tr th {\n",
       "        vertical-align: top;\n",
       "    }\n",
       "\n",
       "    .dataframe thead th {\n",
       "        text-align: right;\n",
       "    }\n",
       "</style>\n",
       "<table border=\"1\" class=\"dataframe\">\n",
       "  <thead>\n",
       "    <tr style=\"text-align: right;\">\n",
       "      <th></th>\n",
       "      <th>SMILES</th>\n",
       "      <th>ens_pred_mean</th>\n",
       "      <th>ens_pred_sd</th>\n",
       "    </tr>\n",
       "  </thead>\n",
       "  <tbody>\n",
       "    <tr>\n",
       "      <th>0</th>\n",
       "      <td>COc1ccc(C(=O)N(C)C)cc1</td>\n",
       "      <td>-11.0194</td>\n",
       "      <td>0.544103</td>\n",
       "    </tr>\n",
       "    <tr>\n",
       "      <th>1</th>\n",
       "      <td>CS(=O)(=O)Cl</td>\n",
       "      <td>-6.39721</td>\n",
       "      <td>1.25929</td>\n",
       "    </tr>\n",
       "    <tr>\n",
       "      <th>2</th>\n",
       "      <td>C=CC(C)C</td>\n",
       "      <td>1.49629</td>\n",
       "      <td>0.194556</td>\n",
       "    </tr>\n",
       "    <tr>\n",
       "      <th>3</th>\n",
       "      <td>CCc1cnccn1</td>\n",
       "      <td>-6.54818</td>\n",
       "      <td>0.47282</td>\n",
       "    </tr>\n",
       "    <tr>\n",
       "      <th>4</th>\n",
       "      <td>CCCCCCCO</td>\n",
       "      <td>-4.36603</td>\n",
       "      <td>0.275466</td>\n",
       "    </tr>\n",
       "    <tr>\n",
       "      <th>...</th>\n",
       "      <td>...</td>\n",
       "      <td>...</td>\n",
       "      <td>...</td>\n",
       "    </tr>\n",
       "    <tr>\n",
       "      <th>637</th>\n",
       "      <td>CCCCCCCC(=O)OC</td>\n",
       "      <td>-2.40242</td>\n",
       "      <td>0.3326</td>\n",
       "    </tr>\n",
       "    <tr>\n",
       "      <th>638</th>\n",
       "      <td>C1CCNC1</td>\n",
       "      <td>-5.1713</td>\n",
       "      <td>0.38214</td>\n",
       "    </tr>\n",
       "    <tr>\n",
       "      <th>639</th>\n",
       "      <td>O=Cc1ccc(O)cc1</td>\n",
       "      <td>-9.44629</td>\n",
       "      <td>0.300162</td>\n",
       "    </tr>\n",
       "    <tr>\n",
       "      <th>640</th>\n",
       "      <td>CCCCCCCCl</td>\n",
       "      <td>0.552965</td>\n",
       "      <td>0.581591</td>\n",
       "    </tr>\n",
       "    <tr>\n",
       "      <th>641</th>\n",
       "      <td>C1COCCO1</td>\n",
       "      <td>-5.38185</td>\n",
       "      <td>0.146637</td>\n",
       "    </tr>\n",
       "  </tbody>\n",
       "</table>\n",
       "<p>642 rows × 3 columns</p>\n",
       "</div>"
      ],
      "text/plain": [
       "                     SMILES ens_pred_mean ens_pred_sd\n",
       "0    COc1ccc(C(=O)N(C)C)cc1      -11.0194    0.544103\n",
       "1              CS(=O)(=O)Cl      -6.39721     1.25929\n",
       "2                  C=CC(C)C       1.49629    0.194556\n",
       "3                CCc1cnccn1      -6.54818     0.47282\n",
       "4                  CCCCCCCO      -4.36603    0.275466\n",
       "..                      ...           ...         ...\n",
       "637          CCCCCCCC(=O)OC      -2.40242      0.3326\n",
       "638                 C1CCNC1       -5.1713     0.38214\n",
       "639          O=Cc1ccc(O)cc1      -9.44629    0.300162\n",
       "640               CCCCCCCCl      0.552965    0.581591\n",
       "641                C1COCCO1      -5.38185    0.146637\n",
       "\n",
       "[642 rows x 3 columns]"
      ]
     },
     "execution_count": 16,
     "metadata": {},
     "output_type": "execute_result"
    }
   ],
   "source": [
    "pred_from_ens"
   ]
  },
  {
   "cell_type": "code",
   "execution_count": null,
   "metadata": {},
   "outputs": [],
   "source": []
  }
 ],
 "metadata": {
  "kernelspec": {
   "display_name": "Python 3",
   "language": "python",
   "name": "python3"
  },
  "language_info": {
   "codemirror_mode": {
    "name": "ipython",
    "version": 3
   },
   "file_extension": ".py",
   "mimetype": "text/x-python",
   "name": "python",
   "nbconvert_exporter": "python",
   "pygments_lexer": "ipython3",
   "version": "3.7.5"
  }
 },
 "nbformat": 4,
 "nbformat_minor": 4
}
